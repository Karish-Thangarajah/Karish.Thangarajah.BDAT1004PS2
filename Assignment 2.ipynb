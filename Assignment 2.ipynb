{
 "cells": [
  {
   "cell_type": "markdown",
   "metadata": {},
   "source": [
    "### Question 1\n",
    "\n",
    "Consider the following Python module:\n",
    "\n",
    "a = 0\n",
    "\n",
    "def b():\n",
    "\n",
    "    global a\n",
    "\n",
    "    a = c(a)\n",
    "\n",
    "def c(a):\n",
    "\n",
    "    return a + 2\n",
    "\n",
    "After importing the module into the interpreter, you execute:\n",
    "\n",
    "\\>>> b()\n",
    "\n",
    "\\>>> b()\n",
    "\n",
    "\\>>> b()\n",
    "\n",
    "\\>>> a\n",
    "\n",
    "?\n",
    "\n",
    "What value is displayed when the last expression (a) is evaluated? Explain your answer by indicating what happens in every executed statement.\n"
   ]
  },
  {
   "cell_type": "markdown",
   "metadata": {},
   "source": [
    "The value displayed will be 0. the first call of b() will set the global variable a to the result of c(a) which will be 0 + 2. The next call of b() will change a from 2 to 4 and the third call of b() will change a from 4 to 6. Once a itself is called it will return the hard coded value it originally will start with which was 0."
   ]
  },
  {
   "cell_type": "markdown",
   "metadata": {},
   "source": [
    "### Question 2\n",
    "\n",
    "Function fileLength(), given to you, takes the name of a file as input and returns the length of the file:\n",
    "\n",
    "\\>>> fileLength('midterm.py')\n",
    "\n",
    "284\n",
    "\n",
    "\\>>> fileLength('idterm.py')\n",
    "\n",
    "Traceback (most recent call last):\n",
    "\n",
    "  File \"<pyshell#34>\", line 1, in \\<module>\n",
    "    fileLength('idterm.py')\n",
    "  File \"/Users/me/midterm.py\", line 3, in fileLength\n",
    "    infile = open(filename)\n",
    "\n",
    "FileNotFoundError: [Errno 2] No such file or directory: 'idterm.py'\n",
    "\n",
    "As shown above, if the file cannot be found by the interpreter or if it cannot be read as a text file, an exception will be raised. Modify function fileLength() so that a friendly message is printed instead:\n",
    "\n",
    "\\>>> fileLength('midterm.py')\n",
    "\n",
    "358\n",
    "\n",
    "\\>>> fileLength('idterm.py')\n",
    "\n",
    "File idterm.py not found.\n"
   ]
  },
  {
   "cell_type": "code",
   "execution_count": 1,
   "metadata": {},
   "outputs": [],
   "source": [
    "def fileLength(file_name):\n",
    "    try:\n",
    "        file = open(file_name)\n",
    "        contents = file.read()\n",
    "        file.close()\n",
    "        print(len(contents))\n",
    "    except:\n",
    "        print(\"File {} not found.\".format(file_name))"
   ]
  },
  {
   "cell_type": "code",
   "execution_count": 2,
   "metadata": {},
   "outputs": [
    {
     "name": "stdout",
     "output_type": "stream",
     "text": [
      "File idterm.py not found.\n"
     ]
    }
   ],
   "source": [
    "fileLength('idterm.py')"
   ]
  },
  {
   "cell_type": "markdown",
   "metadata": {},
   "source": [
    "### Question 3\n",
    "\n",
    "Write a class named Marsupial that can be used as shown below:\n",
    "\n",
    "\\>>> m = Marsupial()\n",
    "\n",
    "\n",
    "\\>>> m.put_in_pouch('doll')\n",
    "\n",
    "\\>>> m.put_in_pouch('firetruck')\n",
    "\n",
    "\\>>> m.put_in_pouch('kitten')\n",
    "\n",
    "\\>>> m.pouch_contents()\n",
    "\n",
    "['doll', 'firetruck', 'kitten']\n",
    "\n",
    "\n",
    "\n"
   ]
  },
  {
   "cell_type": "code",
   "execution_count": 3,
   "metadata": {},
   "outputs": [],
   "source": [
    "class Marsupial:\n",
    "    def __init__(self):\n",
    "        self.pouch = []\n",
    "        \n",
    "    def put_in_pouch(self, item):\n",
    "        self.pouch.append(item)\n",
    "    \n",
    "    def pouch_contents(self):\n",
    "        return self.pouch\n",
    "    "
   ]
  },
  {
   "cell_type": "code",
   "execution_count": 4,
   "metadata": {},
   "outputs": [
    {
     "data": {
      "text/plain": [
       "['doll', 'firetruck', 'kitten']"
      ]
     },
     "execution_count": 4,
     "metadata": {},
     "output_type": "execute_result"
    }
   ],
   "source": [
    " m = Marsupial()\n",
    "\n",
    "m.put_in_pouch('doll')\n",
    "\n",
    "m.put_in_pouch('firetruck')\n",
    "\n",
    "m.put_in_pouch('kitten')\n",
    "\n",
    "m.pouch_contents()"
   ]
  },
  {
   "cell_type": "markdown",
   "metadata": {},
   "source": [
    "Now write a class named Kangaroo as a subclass of Marsupial that inherits all the attributes of Marsupial and also:\n",
    "\n",
    "a.\textends the Marsupial \\_\\_init\\_\\_ constructor to take, as input, the coordinates x and y of the Kangaroo object,\n",
    "\n",
    "b.\tsupports method jump that takes number values dx and dy as input and moves the kangaroo by dx units along the x-axis and by dy units along the y-axis, and\n",
    "\n",
    "c.\toverloads the \\_\\_str\\_\\_ operator so it behaves as shown below.\n"
   ]
  },
  {
   "cell_type": "code",
   "execution_count": 5,
   "metadata": {},
   "outputs": [],
   "source": [
    "class Kangaroo(Marsupial):\n",
    "    \n",
    "    def __init__(self,xcoord=0,ycoord=0):\n",
    "        self.x = xcoord\n",
    "        self.y = ycoord\n",
    "        self.pouch = []\n",
    "    \n",
    "    def jump(self,dx=0,dy=0):\n",
    "        self.x += dx\n",
    "        self.y += dy\n",
    "        \n",
    "    def __str__(self):\n",
    "        return \"I am a Kangaroo located at coordinates ({},{})\".format(self.x,self.y)\n",
    "        "
   ]
  },
  {
   "cell_type": "code",
   "execution_count": 6,
   "metadata": {},
   "outputs": [
    {
     "name": "stdout",
     "output_type": "stream",
     "text": [
      "I am a Kangaroo located at coordinates (0,0)\n",
      "I am a Kangaroo located at coordinates (3,0)\n"
     ]
    }
   ],
   "source": [
    "k = Kangaroo(0,0)\n",
    "print(k)\n",
    "k.put_in_pouch('doll')\n",
    "k.put_in_pouch('firetruck')\n",
    "k.put_in_pouch('kitten')\n",
    "k.pouch_contents()\n",
    "k.jump(1,0)\n",
    "k.jump(1,0)\n",
    "k.jump(1,0)\n",
    "print(k)\n"
   ]
  },
  {
   "cell_type": "markdown",
   "metadata": {},
   "source": [
    "### Question 5"
   ]
  },
  {
   "cell_type": "code",
   "execution_count": 7,
   "metadata": {},
   "outputs": [],
   "source": [
    "def collatz(x):\n",
    "    if (x <= 0):\n",
    "        print('Please input a positive integer.')\n",
    "    elif (x == 1):\n",
    "        print(x)\n",
    "    elif (x % 2 == 0):\n",
    "        print(x)\n",
    "        collatz(x//2)\n",
    "    else:\n",
    "        print(x)\n",
    "        collatz(3*x + 1)\n",
    "    "
   ]
  },
  {
   "cell_type": "code",
   "execution_count": 8,
   "metadata": {},
   "outputs": [
    {
     "name": "stdout",
     "output_type": "stream",
     "text": [
      "1\n"
     ]
    }
   ],
   "source": [
    "collatz(1)"
   ]
  },
  {
   "cell_type": "code",
   "execution_count": 9,
   "metadata": {},
   "outputs": [
    {
     "name": "stdout",
     "output_type": "stream",
     "text": [
      "10\n",
      "5\n",
      "16\n",
      "8\n",
      "4\n",
      "2\n",
      "1\n"
     ]
    }
   ],
   "source": [
    "collatz(10)"
   ]
  },
  {
   "cell_type": "code",
   "execution_count": 10,
   "metadata": {},
   "outputs": [
    {
     "name": "stdout",
     "output_type": "stream",
     "text": [
      "1997\n",
      "5992\n",
      "2996\n",
      "1498\n",
      "749\n",
      "2248\n",
      "1124\n",
      "562\n",
      "281\n",
      "844\n",
      "422\n",
      "211\n",
      "634\n",
      "317\n",
      "952\n",
      "476\n",
      "238\n",
      "119\n",
      "358\n",
      "179\n",
      "538\n",
      "269\n",
      "808\n",
      "404\n",
      "202\n",
      "101\n",
      "304\n",
      "152\n",
      "76\n",
      "38\n",
      "19\n",
      "58\n",
      "29\n",
      "88\n",
      "44\n",
      "22\n",
      "11\n",
      "34\n",
      "17\n",
      "52\n",
      "26\n",
      "13\n",
      "40\n",
      "20\n",
      "10\n",
      "5\n",
      "16\n",
      "8\n",
      "4\n",
      "2\n",
      "1\n"
     ]
    }
   ],
   "source": [
    "collatz(1997)"
   ]
  },
  {
   "cell_type": "markdown",
   "metadata": {},
   "source": [
    "### Question 6\n",
    "Write a recursive method binary() that takes a non-negative integer n and prints the binary representation of integer n."
   ]
  },
  {
   "cell_type": "code",
   "execution_count": 11,
   "metadata": {},
   "outputs": [],
   "source": [
    "\n",
    "def binary(n):\n",
    "    if n == 0:\n",
    "        return 0\n",
    "    else:\n",
    "        return 10*binary(n//2) + n%2\n",
    "    "
   ]
  },
  {
   "cell_type": "code",
   "execution_count": 12,
   "metadata": {},
   "outputs": [
    {
     "data": {
      "text/plain": [
       "1001"
      ]
     },
     "execution_count": 12,
     "metadata": {},
     "output_type": "execute_result"
    }
   ],
   "source": [
    "binary(9)"
   ]
  },
  {
   "cell_type": "code",
   "execution_count": 13,
   "metadata": {},
   "outputs": [
    {
     "data": {
      "text/plain": [
       "11111001101"
      ]
     },
     "execution_count": 13,
     "metadata": {},
     "output_type": "execute_result"
    }
   ],
   "source": [
    "binary(1997)"
   ]
  },
  {
   "cell_type": "markdown",
   "metadata": {},
   "source": [
    "### Question 7\n",
    "\n",
    "Implement a class named HeadingParser that can be used to parse an HTML document, and retrieve and print all the headings in the document. You should implement your class as a subclass of HTMLParser, defined in Standard Library module html.parser. When fed a string containing HTML code, your class should print the headings, one per line and in the order in which they appear in the document. Each heading should be indented as follows: an h1 heading should have indentation 0, and h2 heading should have indentation 1, etc. Test your implementation using w3c.html.\n",
    "\n",
    "\\>>> infile = open('w3c.html')\n",
    "\n",
    "\\>>> content = infile.read()\n",
    "\n",
    "\\>>> infile.close()\n",
    "\n",
    "\\>>> hp = HeadingParser()\n",
    "\n",
    "\\>>> hp.feed(content)\n",
    "\n",
    "W3C Mission\n",
    "\n",
    "    Principles\n"
   ]
  },
  {
   "cell_type": "code",
   "execution_count": 14,
   "metadata": {},
   "outputs": [],
   "source": [
    "from html.parser import HTMLParser\n",
    "\n",
    "class HeadingParser(HTMLParser):\n",
    "    \n",
    "    def __init__(self):\n",
    "        \n",
    "        HTMLParser.__init__(self)\n",
    "        self.indentNum = 0\n",
    "        self.headCheck = False\n",
    "    \n",
    "    def handle_starttag(self, tag, attrs):\n",
    "        \n",
    "        if tag in ['h1','h2','h3','h4','h5','h6']:\n",
    "            self.headCheck = True\n",
    "            self.indentNum = int(tag[-1]) - 1\n",
    "        \n",
    "    def handle_data(self, data):\n",
    "        if self.headCheck:\n",
    "            dataIndent = '\\t'*self.indentNum \n",
    "            print('{}{}'.format(dataIndent, data))\n",
    "            \n",
    "    def handle_endtag(self, tag):\n",
    "        if tag in ['h1','h2','h3','h4','h5','h6']:\n",
    "            self.headCheck = False\n",
    "            self.indentNum = 0\n",
    "    \n",
    "    \n",
    "\n",
    "\n"
   ]
  },
  {
   "cell_type": "code",
   "execution_count": 15,
   "metadata": {},
   "outputs": [
    {
     "name": "stdout",
     "output_type": "stream",
     "text": [
      "The World Wide Web Consortium\n",
      "\tWho are the W3C members?\n",
      "\tWho are the W3C team members?\n",
      "\tWhy should I join?\n",
      "\tActivities of the W3C\n",
      "\tWays to get involved\n"
     ]
    }
   ],
   "source": [
    "infile = open('w3c.html')\n",
    "content = infile.read()\n",
    "infile.close()\n",
    "hp = HeadingParser()\n",
    "hp.feed(content)"
   ]
  },
  {
   "cell_type": "markdown",
   "metadata": {},
   "source": [
    "### Question 8\n",
    "\n",
    "Implement recursive function webdir() that takes as input: a URL (as a string) and non-negative integers depth and indent. Your function should visit every web page reachable from the starting URL web page in depth clicks or less, and print each web page's URL. As shown below, indentation, specified by indent,  should be used to indicate the depth of a URL.\n",
    "\n",
    "webdir('http://reed.cs.depaul.edu/lperkovic/test1.html', 2, 0)\n",
    "\n",
    "http://reed.cs.depaul.edu/lperkovic/test1.html\n",
    "\n",
    "    http://reed.cs.depaul.edu/lperkovic/test2.html\n",
    "\n",
    "        http://reed.cs.depaul.edu/lperkovic/test4.html\n",
    "\n",
    "    http://reed.cs.depaul.edu/lperkovic/test3.html\n",
    "        \n",
    "        http://reed.cs.depaul.edu/lperkovic/test4.html\n"
   ]
  },
  {
   "cell_type": "code",
   "execution_count": 16,
   "metadata": {},
   "outputs": [],
   "source": [
    "from urllib.request import urlopen\n",
    "from urllib.parse import urljoin\n",
    "from html.parser import HTMLParser\n",
    "\n",
    "    \n",
    "\n",
    "class Collector(HTMLParser):\n",
    "    \n",
    "    def __init__(self, url):\n",
    "        \n",
    "        HTMLParser.__init__(self)\n",
    "        self.url = url\n",
    "        self.links = []\n",
    "    \n",
    "    def handle_starttag(self, tag, attrs):\n",
    "        if tag == 'a':\n",
    "            for attr in attrs:\n",
    "                if attr[0] == 'href':\n",
    "                    self.links.append(attr[1])\n",
    "                    \n",
    "    def getLinks(self):\n",
    "        return self.links\n"
   ]
  },
  {
   "cell_type": "code",
   "execution_count": 17,
   "metadata": {},
   "outputs": [],
   "source": [
    "def webdir(url, depth, indent):\n",
    "    print(\"{}{}\".format('\\t'*indent, url))\n",
    "    try:\n",
    "        resource = urlopen(url)\n",
    "        content = resource.read().decode()\n",
    "        \n",
    "        collector = Collector(url)\n",
    "        collector.feed(content)\n",
    "        listOfURLs = collector.getLinks()\n",
    "        \n",
    "        for URL in listOfURLs:\n",
    "            \n",
    "            if (depth > 0):\n",
    "                webdir(URL, depth - 1, indent + 1)\n",
    "    except:\n",
    "        pass\n",
    "    "
   ]
  },
  {
   "cell_type": "code",
   "execution_count": 18,
   "metadata": {},
   "outputs": [
    {
     "name": "stdout",
     "output_type": "stream",
     "text": [
      "http://reed.cs.depaul.edu/lperkovic/test1.html\n",
      "\thttp://reed.cs.depaul.edu/lperkovic/test2.html\n",
      "\t\tmailto:lperkovic@cs.depaul.edu\n",
      "\t\ttest4.html\n",
      "\ttest3.html\n"
     ]
    }
   ],
   "source": [
    "webdir('http://reed.cs.depaul.edu/lperkovic/test1.html', 2, 0)"
   ]
  },
  {
   "cell_type": "code",
   "execution_count": 19,
   "metadata": {},
   "outputs": [
    {
     "name": "stdout",
     "output_type": "stream",
     "text": [
      "\thttps://en.wikipedia.org/wiki/Wikipedia\n"
     ]
    }
   ],
   "source": [
    "webdir('https://en.wikipedia.org/wiki/Wikipedia', 0, 1)"
   ]
  },
  {
   "cell_type": "markdown",
   "metadata": {},
   "source": [
    "### Question 9\n",
    "Write SQL queries on the below database table that return: \n",
    "\n",
    "|City|Country|Season|Temperature (C)|Rainfall (mm)|\n",
    "|----|-------|------|---------------|-------------|\n",
    "|Mumbai|India|Winter|24.8|5.9|\n",
    "|Mumbai|India|Spring|28.4|16.2|\n",
    "|Mumbai|India|Summer|27.9|1549.4|\n",
    "|Mumbai|India|Fall|27.6|346.0|\n",
    "|London|United Kingdom|Winter|4.1|207.7|\n",
    "|London|United Kingdom|Spring|8.3|169.6|\n",
    "|London|United Kingdom|Summer|15.7|157.0|\n",
    "|London|United Kingdom|Fall|10.4|218.5|\n",
    "|Cairo|Egypt|Winter|13.6|16.5|\n",
    "|Cairo|Egypt|Spring|20.7|6.5|\n",
    "|Cairo|Egypt|Summer|27.7|0.1|\n",
    "|Cairo|Egypt|Fall|22.2|4.5|"
   ]
  },
  {
   "cell_type": "code",
   "execution_count": 20,
   "metadata": {},
   "outputs": [],
   "source": [
    "import sqlite3\n",
    "con = sqlite3.connect('weather_data.db')\n",
    "cur = con.cursor()\n",
    "#cur.execute(\"DROP TABLE weather_data\")\n",
    "#cur.execute(\"CREATE TABLE IF NOT EXISTS Weather_data (City text, Country text, Season Text, Temperature_C Real, Rainfall_mm Real)\")\n",
    "weather_data = [['Mumbai','India','Winter',24.8,5.9],\n",
    "['Mumbai' , 'India' , 'Spring' , 28.4 , 16.2],\n",
    "['Mumbai' , 'India' , 'Summer' , 27.9 , 1549.4],\n",
    "['Mumbai' , 'India' , 'Fall' , 27.6 , 346.0],\n",
    "['London' , 'United Kingdom' , 'Winter' , 4.1 , 207.7],\n",
    "['London' , 'United Kingdom' , 'Spring' , 8.3 , 169.6],\n",
    "['London' , 'United Kingdom' , 'Summer' , 15.7 , 157.0],\n",
    "['London' , 'United Kingdom' , 'Fall' , 10.4 , 218.5],\n",
    "['Cairo' , 'Egypt' , 'Winter' , 13.6 , 16.5],\n",
    "['Cairo' , 'Egypt' , 'Spring' , 20.7 , 6.5],\n",
    "['Cairo' , 'Egypt' , 'Summer' , 27.7 , 0.1],\n",
    "['Cairo' , 'Egypt' , 'Fall' , 22.2 , 4.5]]\n",
    "\n",
    "#for entry in weather_data:\n",
    "#    cur.execute(\"INSERT INTO Weather_data VALUES (?,?,?,?,?)\", (entry[0],entry[1],entry[2],entry[3],entry[4]))\n",
    "\n",
    "con.commit()\n",
    "con.close()    "
   ]
  },
  {
   "cell_type": "markdown",
   "metadata": {},
   "source": [
    "a)\tAll the temperature data."
   ]
  },
  {
   "cell_type": "code",
   "execution_count": 21,
   "metadata": {},
   "outputs": [
    {
     "data": {
      "text/plain": [
       "[24.8, 28.4, 27.9, 27.6, 4.1, 8.3, 15.7, 10.4, 13.6, 20.7, 27.7, 22.2]"
      ]
     },
     "execution_count": 21,
     "metadata": {},
     "output_type": "execute_result"
    }
   ],
   "source": [
    "con = sqlite3.connect('weather_data.db')\n",
    "cur = con.cursor()\n",
    "cur.execute(\"SELECT Temperature_C from weather_data\")\n",
    "[entry[0] for entry in cur.fetchall()]\n"
   ]
  },
  {
   "cell_type": "markdown",
   "metadata": {},
   "source": [
    "b)\tAll the cities, but without repetition."
   ]
  },
  {
   "cell_type": "code",
   "execution_count": 22,
   "metadata": {},
   "outputs": [
    {
     "data": {
      "text/plain": [
       "['Mumbai', 'London', 'Cairo']"
      ]
     },
     "execution_count": 22,
     "metadata": {},
     "output_type": "execute_result"
    }
   ],
   "source": [
    "\n",
    "cur.execute(\"SELECT DISTINCT City from weather_data\")\n",
    "[entry[0] for entry in cur.fetchall()]\n",
    "\n"
   ]
  },
  {
   "cell_type": "markdown",
   "metadata": {},
   "source": [
    "c)\tAll the records for India."
   ]
  },
  {
   "cell_type": "code",
   "execution_count": 23,
   "metadata": {},
   "outputs": [
    {
     "data": {
      "text/plain": [
       "[('Mumbai', 'India', 'Winter', 24.8, 5.9),\n",
       " ('Mumbai', 'India', 'Spring', 28.4, 16.2),\n",
       " ('Mumbai', 'India', 'Summer', 27.9, 1549.4),\n",
       " ('Mumbai', 'India', 'Fall', 27.6, 346.0)]"
      ]
     },
     "execution_count": 23,
     "metadata": {},
     "output_type": "execute_result"
    }
   ],
   "source": [
    "\n",
    "cur.execute(\"SELECT * from weather_data WHERE Country = 'India'\")\n",
    "cur.fetchall()\n"
   ]
  },
  {
   "cell_type": "markdown",
   "metadata": {},
   "source": [
    "d)\tAll the Fall records."
   ]
  },
  {
   "cell_type": "code",
   "execution_count": 24,
   "metadata": {},
   "outputs": [
    {
     "data": {
      "text/plain": [
       "[('Mumbai', 'India', 'Fall', 27.6, 346.0),\n",
       " ('London', 'United Kingdom', 'Fall', 10.4, 218.5),\n",
       " ('Cairo', 'Egypt', 'Fall', 22.2, 4.5)]"
      ]
     },
     "execution_count": 24,
     "metadata": {},
     "output_type": "execute_result"
    }
   ],
   "source": [
    "\n",
    "cur.execute(\"SELECT * FROM weather_data WHERE Season = 'Fall'\")\n",
    "cur.fetchall()\n"
   ]
  },
  {
   "cell_type": "markdown",
   "metadata": {},
   "source": [
    "e)\tThe city, country, and season for which the average rainfall is between 200 \n",
    "and 400 millimeters."
   ]
  },
  {
   "cell_type": "code",
   "execution_count": 25,
   "metadata": {},
   "outputs": [
    {
     "data": {
      "text/plain": [
       "[('Mumbai', 'India', 'Fall', 27.6, 346.0),\n",
       " ('London', 'United Kingdom', 'Winter', 4.1, 207.7),\n",
       " ('London', 'United Kingdom', 'Fall', 10.4, 218.5)]"
      ]
     },
     "execution_count": 25,
     "metadata": {},
     "output_type": "execute_result"
    }
   ],
   "source": [
    "\n",
    "cur.execute(\"SELECT * FROM weather_data WHERE Rainfall_mm BETWEEN 200 AND 400\")\n",
    "cur.fetchall()\n"
   ]
  },
  {
   "cell_type": "markdown",
   "metadata": {},
   "source": [
    "f)\tThe city and country for which the average Fall temperature is above 20 degrees, in increasing temperature order."
   ]
  },
  {
   "cell_type": "code",
   "execution_count": 26,
   "metadata": {},
   "outputs": [
    {
     "data": {
      "text/plain": [
       "[('Cairo', 'Egypt'), ('Mumbai', 'India')]"
      ]
     },
     "execution_count": 26,
     "metadata": {},
     "output_type": "execute_result"
    }
   ],
   "source": [
    "\n",
    "cur.execute(\"SELECT City, Country FROM weather_data WHERE Season = 'Fall' AND Temperature_C > 20.0 ORDER BY Temperature_C ASC\")\n",
    "cur.fetchall()\n"
   ]
  },
  {
   "cell_type": "markdown",
   "metadata": {},
   "source": [
    "g)\tThe total annual rainfall for Cairo."
   ]
  },
  {
   "cell_type": "code",
   "execution_count": 27,
   "metadata": {},
   "outputs": [
    {
     "data": {
      "text/plain": [
       "27.6"
      ]
     },
     "execution_count": 27,
     "metadata": {},
     "output_type": "execute_result"
    }
   ],
   "source": [
    "\n",
    "cur.execute(\"SELECT SUM(Rainfall_mm) FROM weather_data WHERE City = 'Cairo'\")\n",
    "cur.fetchall()[0][0]\n"
   ]
  },
  {
   "cell_type": "markdown",
   "metadata": {},
   "source": [
    "h)\tThe total rainfall for each season."
   ]
  },
  {
   "cell_type": "code",
   "execution_count": 28,
   "metadata": {},
   "outputs": [
    {
     "data": {
      "text/plain": [
       "[('Fall', 569.0),\n",
       " ('Spring', 192.29999999999998),\n",
       " ('Summer', 1706.5),\n",
       " ('Winter', 230.1)]"
      ]
     },
     "execution_count": 28,
     "metadata": {},
     "output_type": "execute_result"
    }
   ],
   "source": [
    "\n",
    "cur.execute(\"SELECT Season, SUM(Rainfall_mm) FROM weather_data GROUP BY Season\")\n",
    "cur.fetchall()\n"
   ]
  },
  {
   "cell_type": "code",
   "execution_count": 29,
   "metadata": {},
   "outputs": [],
   "source": [
    "con.commit()\n",
    "con.close()"
   ]
  },
  {
   "cell_type": "markdown",
   "metadata": {},
   "source": [
    "### Question 10\n",
    "\n",
    "Suppose list words is defined as follows:\n",
    "\n",
    "\\>\\>\\> words = ['The', 'quick', 'brown', 'fox', 'jumps', 'over', 'the', 'lazy', 'dog']\n",
    "\n",
    "Write list comprehension expressions that use list words and generate the following lists:\n",
    "\n",
    "a)\t['THE', 'QUICK', 'BROWN', 'FOX', 'JUMPS', 'OVER', 'THE', 'LAZY', 'DOG']\n",
    "\n",
    "b)\t['the', 'quick', 'brown', 'fox', 'jumps', 'over', 'the', 'lazy', 'dog']\n",
    "\n",
    "c)\t[3, 5, 5, 3, 5, 4, 3, 4, 3] (the list of lengths of words in list words).\n",
    "\n",
    "d)\t[['THE', 'the', 3], ['QUICK', 'quick', 5], ['BROWN', 'brown', 5], ['FOX', 'fox', 3], ['JUMPS', 'jumps', 5], ['OVER', 'over', 4], ['THE', 'the', 3], ['LAZY', 'lazy', 4], ['DOG', 'dog', 3]] (the list containing a list for every word of list words, where each list contains the word in uppercase and lowercase and the length of the word.)\n",
    "\n",
    "e)\t['The', 'quick', 'brown', 'fox', 'jumps', 'over', 'the', 'lazy', 'dog'] (the list of words in list words containing 4 or more characters.)\n"
   ]
  },
  {
   "cell_type": "code",
   "execution_count": 30,
   "metadata": {},
   "outputs": [],
   "source": [
    "words = ['The', 'quick', 'brown', 'fox', 'jumps', 'over', 'the', 'lazy', 'dog']"
   ]
  },
  {
   "cell_type": "code",
   "execution_count": 31,
   "metadata": {},
   "outputs": [
    {
     "data": {
      "text/plain": [
       "['THE', 'QUICK', 'BROWN', 'FOX', 'JUMPS', 'OVER', 'THE', 'LAZY', 'DOG']"
      ]
     },
     "execution_count": 31,
     "metadata": {},
     "output_type": "execute_result"
    }
   ],
   "source": [
    "[word.upper() for word in words]"
   ]
  },
  {
   "cell_type": "code",
   "execution_count": 32,
   "metadata": {},
   "outputs": [
    {
     "data": {
      "text/plain": [
       "['the', 'quick', 'brown', 'fox', 'jumps', 'over', 'the', 'lazy', 'dog']"
      ]
     },
     "execution_count": 32,
     "metadata": {},
     "output_type": "execute_result"
    }
   ],
   "source": [
    "[word.lower() for word in words]"
   ]
  },
  {
   "cell_type": "code",
   "execution_count": 33,
   "metadata": {},
   "outputs": [
    {
     "data": {
      "text/plain": [
       "[3, 5, 5, 3, 5, 4, 3, 4, 3]"
      ]
     },
     "execution_count": 33,
     "metadata": {},
     "output_type": "execute_result"
    }
   ],
   "source": [
    "[len(word) for word in words]"
   ]
  },
  {
   "cell_type": "code",
   "execution_count": 34,
   "metadata": {},
   "outputs": [
    {
     "data": {
      "text/plain": [
       "[['THE', 'the', 3],\n",
       " ['QUICK', 'quick', 5],\n",
       " ['BROWN', 'brown', 5],\n",
       " ['FOX', 'fox', 3],\n",
       " ['JUMPS', 'jumps', 5],\n",
       " ['OVER', 'over', 4],\n",
       " ['THE', 'the', 3],\n",
       " ['LAZY', 'lazy', 4],\n",
       " ['DOG', 'dog', 3]]"
      ]
     },
     "execution_count": 34,
     "metadata": {},
     "output_type": "execute_result"
    }
   ],
   "source": [
    "[[word.upper(),word.lower(),len(word)] for word in words]"
   ]
  },
  {
   "cell_type": "code",
   "execution_count": 35,
   "metadata": {},
   "outputs": [
    {
     "data": {
      "text/plain": [
       "['quick', 'brown', 'jumps', 'over', 'lazy']"
      ]
     },
     "execution_count": 35,
     "metadata": {},
     "output_type": "execute_result"
    }
   ],
   "source": [
    "[word for word in words if len(word) >= 4]\n"
   ]
  }
 ],
 "metadata": {
  "kernelspec": {
   "display_name": "Python 3",
   "language": "python",
   "name": "python3"
  },
  "language_info": {
   "codemirror_mode": {
    "name": "ipython",
    "version": 3
   },
   "file_extension": ".py",
   "mimetype": "text/x-python",
   "name": "python",
   "nbconvert_exporter": "python",
   "pygments_lexer": "ipython3",
   "version": "3.8.3"
  }
 },
 "nbformat": 4,
 "nbformat_minor": 4
}
